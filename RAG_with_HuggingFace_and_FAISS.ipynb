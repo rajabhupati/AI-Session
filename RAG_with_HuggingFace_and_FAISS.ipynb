{
  "cells": [
    {
      "cell_type": "markdown",
      "metadata": {
        "id": "view-in-github",
        "colab_type": "text"
      },
      "source": [
        "<a href=\"https://colab.research.google.com/github/rajabhupati/AI-Session/blob/main/RAG_with_HuggingFace_and_FAISS.ipynb\" target=\"_parent\"><img src=\"https://colab.research.google.com/assets/colab-badge.svg\" alt=\"Open In Colab\"/></a>"
      ]
    },
    {
      "cell_type": "markdown",
      "metadata": {
        "id": "nxydIk0O9XAI"
      },
      "source": [
        "# RAG with Hugging Face Models on Colab\n",
        "This notebook demonstrates a simple Retrieval-Augmented Generation (RAG) setup using:\n",
        "- `mistralai/Mistral-7B-Instruct-v0.1`\n",
        "- `FAISS` for semantic search\n",
        "- Custom documents loaded and queried\n",
        "\n",
        "*Note: This is a simplified demo, suitable for small-scale retrieval tasks in Colab.*"
      ],
      "id": "nxydIk0O9XAI"
    },
    {
      "cell_type": "code",
      "metadata": {
        "id": "rMqFxCWq9XAJ"
      },
      "execution_count": null,
      "outputs": [],
      "source": [
        "# Install required packages\n",
        "!pip install -q transformers sentence-transformers faiss-cpu accelerate bitsandbytes"
      ],
      "id": "rMqFxCWq9XAJ"
    },
    {
      "cell_type": "code",
      "source": [
        "import warnings\n",
        "# Suppress specific UserWarnings related to computation\n",
        "warnings.filterwarnings(\"ignore\", message=\"Input type into Linear4bit\")"
      ],
      "metadata": {
        "id": "szvbpiK4_TT1"
      },
      "id": "szvbpiK4_TT1",
      "execution_count": null,
      "outputs": []
    },
    {
      "cell_type": "code",
      "source": [
        "import logging\n",
        "\n",
        "# Suppress info-level messages in transformers\n",
        "logging.getLogger(\"transformers\").setLevel(logging.ERROR)"
      ],
      "metadata": {
        "id": "HrmpgQcy_awu"
      },
      "id": "HrmpgQcy_awu",
      "execution_count": null,
      "outputs": []
    },
    {
      "cell_type": "code",
      "metadata": {
        "id": "2f2m7YYF9XAK"
      },
      "execution_count": null,
      "outputs": [],
      "source": [
        "# Load the embedding model\n",
        "from sentence_transformers import SentenceTransformer\n",
        "import faiss\n",
        "import numpy as np\n",
        "\n",
        "embed_model = SentenceTransformer('all-MiniLM-L6-v2')"
      ],
      "id": "2f2m7YYF9XAK"
    },
    {
      "cell_type": "code",
      "metadata": {
        "id": "EwAf66849XAK"
      },
      "execution_count": null,
      "outputs": [],
      "source": [
        "# Sample documents to index\n",
        "docs = [\n",
        "    \"Machine learning is a field of AI focused on training systems to learn from data.\",\n",
        "    \"RAG stands for Retrieval-Augmented Generation and improves factual accuracy.\",\n",
        "    \"Transformers have revolutionized natural language processing.\",\n",
        "    \"FAISS is a library for efficient similarity search.\"\n",
        "]\n",
        "\n",
        "doc_embeddings = embed_model.encode(docs, convert_to_numpy=True)\n",
        "\n",
        "# Create FAISS index\n",
        "dimension = doc_embeddings.shape[1]\n",
        "index = faiss.IndexFlatL2(dimension)\n",
        "index.add(doc_embeddings)"
      ],
      "id": "EwAf66849XAK"
    },
    {
      "cell_type": "code",
      "metadata": {
        "id": "2kZmU79_9XAK"
      },
      "execution_count": null,
      "outputs": [],
      "source": [
        "# Define a search function\n",
        "def retrieve(query, top_k=1):\n",
        "    query_vector = embed_model.encode([query])\n",
        "    D, I = index.search(np.array(query_vector), top_k)\n",
        "    return [docs[i] for i in I[0]]"
      ],
      "id": "2kZmU79_9XAK"
    },
    {
      "cell_type": "markdown",
      "metadata": {
        "id": "NL5PcG0l9XAK"
      },
      "source": [
        "## Load the language model (Mistral)"
      ],
      "id": "NL5PcG0l9XAK"
    },
    {
      "cell_type": "code",
      "metadata": {
        "id": "p5kEQZNW9XAK"
      },
      "execution_count": null,
      "outputs": [],
      "source": [
        "from transformers import AutoModelForCausalLM, AutoTokenizer\n",
        "import torch\n",
        "from google.colab import userdata\n",
        "\n",
        "# Directly set the Hugging Face token in your code (not ideal for real use due to exposure)\n",
        "huggingface_token = userdata.get('HUGGINGFACE_TOKEN')\n",
        "\n",
        "\n",
        "model_name = \"mistralai/Mistral-7B-Instruct-v0.1\"\n",
        "\n",
        "# Ensure token is accessible\n",
        "if not huggingface_token:\n",
        "    raise ValueError(\"HUGGINGFACE_TOKEN is not set. Please ensure it's configured correctly.\")\n",
        "\n",
        "tokenizer = AutoTokenizer.from_pretrained(model_name, token=huggingface_token)\n",
        "model = AutoModelForCausalLM.from_pretrained(\n",
        "    model_name,\n",
        "    device_map=\"auto\",\n",
        "    load_in_4bit=True,\n",
        "    token=huggingface_token\n",
        ")\n",
        "\n",
        "def generate(prompt, max_tokens=200):\n",
        "    inputs = tokenizer(prompt, return_tensors=\"pt\").to(\"cuda\")\n",
        "    outputs = model.generate(**inputs, max_new_tokens=max_tokens)\n",
        "    return tokenizer.decode(outputs[0], skip_special_tokens=True)"
      ],
      "id": "p5kEQZNW9XAK"
    },
    {
      "cell_type": "markdown",
      "metadata": {
        "id": "_MDxFlda9XAK"
      },
      "source": [
        "## Example RAG Flow"
      ],
      "id": "_MDxFlda9XAK"
    },
    {
      "cell_type": "code",
      "metadata": {
        "id": "Zsp4rcNY9XAK"
      },
      "execution_count": null,
      "outputs": [],
      "source": [
        "user_query = \"What is RAG in AI?\"\n",
        "retrieved = retrieve(user_query)[0]\n",
        "\n",
        "rag_prompt = f\"Use the following context to answer the question:\\nContext: {retrieved}\\n\\nQuestion: {user_query}\\nAnswer:\"\n",
        "print(generate(rag_prompt))"
      ],
      "id": "Zsp4rcNY9XAK"
    },
    {
      "cell_type": "code",
      "source": [],
      "metadata": {
        "id": "fzT1PnQvAfiY"
      },
      "id": "fzT1PnQvAfiY",
      "execution_count": null,
      "outputs": []
    }
  ],
  "metadata": {
    "kernelspec": {
      "display_name": "Python 3",
      "name": "python3"
    },
    "language_info": {
      "name": "python",
      "version": "3.9"
    },
    "colab": {
      "provenance": [],
      "gpuType": "T4",
      "include_colab_link": true
    },
    "accelerator": "GPU"
  },
  "nbformat": 4,
  "nbformat_minor": 5
}